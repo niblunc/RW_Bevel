{
 "cells": [
  {
   "cell_type": "code",
   "execution_count": 8,
   "metadata": {},
   "outputs": [],
   "source": [
    "import pandas as pd"
   ]
  },
  {
   "cell_type": "code",
   "execution_count": 9,
   "metadata": {},
   "outputs": [],
   "source": [
    "# Here we are initializing the dictionary\n",
    "# When this method is called a \"count\" variable is passed\n",
    "# This becomes the key to the trials, and an empty dictionary\n",
    "# is filled in for the corresponding value\n",
    "def make_dict(count):\n",
    "    \n",
    "   # print(\"MAKING DICT\")\n",
    "    main_dict[count] = {\n",
    "        'RESPONSE1' : None,\n",
    "        'RESPONSE2' : None,\n",
    "        'POSITION1' : None,\n",
    "        'POSITION2' : None,\n",
    "        'KEYPRESS'  : None,\n",
    "        'TIME'      : None,\n",
    "        'STIM'      : None\n",
    "    }\n",
    "\n",
    "            "
   ]
  },
  {
   "cell_type": "code",
   "execution_count": 37,
   "metadata": {
    "scrolled": false
   },
   "outputs": [],
   "source": [
    "\n",
    "\n",
    "\n",
    "def parse_row(img):\n",
    "\n",
    "\n",
    "\n",
    "# this counter is used to count the number of trials we have\n",
    "# and it is used for our dictionary key\n",
    "    count=0\n",
    "\n",
    "# we start a loop iterating through the rows\n",
    "# and parse out our relevant info \n",
    "    for row in img['img']:\n",
    "\n",
    "#____________________________________________________________________________________ #   \n",
    "\n",
    "    #check for the row w/ image (letters), and position\n",
    "    # this conditional statement also iterates our \"count\" variable\n",
    "    # and initializes a new dictionary key \n",
    "        if 'jpg' in row:\n",
    "            #print(row)\n",
    "            count=count+1\n",
    "            ct = str(count)\n",
    "            make_dict(ct)\n",
    "        \n",
    "        \n",
    "            response1 = row.split(\" \")[1].split(\".\")[0]\n",
    "            position1 = row.split(\" \")[3].split(\"=\")[1]\n",
    "    #    print(\"Response1: \", response1)\n",
    "     #   print(\"Position1: \", position1)\n",
    "            response2 = row.split(\" \")[5].split(\".\")[0]\n",
    "            position2 = row.split(\" \")[7].split(\"=\")[1]\n",
    "         #   print(\"Response2: \", response2)\n",
    "          #  print(\"Position2: \", position2)\n",
    "            #print(count)\n",
    "        \n",
    "    # here we add our dictionary values \n",
    "            main_dict[ct][\"RESPONSE1\"] = response1\n",
    "            main_dict[ct][\"RESPONSE2\"] = response2\n",
    "            main_dict[ct][\"POSITION1\"] = position1\n",
    "            main_dict[ct][\"POSITION2\"] = position2        \n",
    "\n",
    "#____________________________________________________________________________________ #   \n",
    "    # check for row with keypress and the time     \n",
    "        if \"time\" in row:\n",
    "            #print(row)\n",
    "            keypress=row.split(\" \")[1].split(\"=\")[1]\n",
    "    #    print(keypress)\n",
    "            time=row.split(\" \")[4]\n",
    "        \n",
    "            # here we add our dictionary values \n",
    "            main_dict[ct][\"KEYPRESS\"] = keypress\n",
    "            main_dict[ct][\"TIME\"] = time \n",
    "\n",
    "            \n",
    "#____________________________________________________________________________________ #   \n",
    "\n",
    "     # check for row with a MISSED signal    \n",
    "        if \"Missed\" in row: \n",
    "            keypress=\"Missed\"\n",
    "    # here we add our dictionary values \n",
    "            main_dict[ct][\"KEYPRESS\"] = keypress\n",
    "            main_dict[ct][\"TIME\"] = \"missed\"\n",
    "    #print(main_dict)\n"
   ]
  },
  {
   "cell_type": "code",
   "execution_count": 38,
   "metadata": {},
   "outputs": [],
   "source": [
    "def get_data(file):\n",
    "    df = pd.read_csv(file, engine='python', sep='\\\\t')\n",
    "    df.columns=['onset', 'img', 'keypress']\n",
    "    df=df.drop( columns=['keypress', 'onset'])\n",
    "    # Here we grab a dataframe we call 'img', this contains the \n",
    "    # relavant column of our data we grabbed from the original df\n",
    "    img = df[df['img'].str.contains(\"=|Missed\")]\n",
    "    return img "
   ]
  },
  {
   "cell_type": "code",
   "execution_count": 45,
   "metadata": {},
   "outputs": [],
   "source": [
    "def get_stim():\n",
    "    for key in main_dict:\n",
    "        keypress = main_dict[key]['KEYPRESS']\n",
    "        pos1 = main_dict[key]['POSITION1']\n",
    "        pos2 = main_dict[key]['POSITION2']\n",
    "        resp1 = main_dict[key]['RESPONSE1']\n",
    "        resp2 = main_dict[key]['RESPONSE2']\n",
    "        if keypress != \"Missed\":\n",
    "           # print(\"KEYPRESS: \", keypress)\n",
    "            if pos1 == keypress:\n",
    "                stim = resp1\n",
    "                #print(\"POS1: \", pos1)\n",
    "                #print(\"RESP1: \", resp1)\n",
    "                #print(\"STIM: \", stim)\n",
    "                main_dict[key]['STIM'] = stim \n",
    "            if pos2 == keypress:\n",
    "                stim = resp2\n",
    "                #print(\"POS2: \", pos2)\n",
    "                #print(\"RESP2: \", resp2)\n",
    "                #print(\"STIM: \", stim)\n",
    "                main_dict[key]['STIM'] = stim\n",
    "        else:\n",
    "            main_dict[key]['STIM'] = \"missed\"\n",
    "            \n",
    "        \n",
    "        "
   ]
  },
  {
   "cell_type": "code",
   "execution_count": 67,
   "metadata": {},
   "outputs": [],
   "source": [
    "def create_output():\n",
    "    output_df = pd.DataFrame()\n",
    "    responses=[]\n",
    "    stims = []\n",
    "    for key in main_dict: \n",
    "        res1 = main_dict[key][\"RESPONSE1\"]\n",
    "        res2 = main_dict[key][\"RESPONSE2\"]\n",
    "        stim = main_dict[key][\"STIM\"]\n",
    "        response = res1+res2\n",
    "        responses.append(response)\n",
    "        stims.append(stim)\n",
    "    output_df[\"Response\"] = responses\n",
    "    output_df[\"Stim\"] = stims\n",
    "    print(output_df.head())"
   ]
  },
  {
   "cell_type": "code",
   "execution_count": 69,
   "metadata": {},
   "outputs": [
    {
     "name": "stdout",
     "output_type": "stream",
     "text": [
      "  Response    Stim\n",
      "0       be  missed\n",
      "1       fa       f\n",
      "2       ea       a\n",
      "3       be       e\n",
      "4       ad       d\n"
     ]
    }
   ],
   "source": [
    "def main():\n",
    "    global main_dict\n",
    "    file = '/Users/nikkibytes/Documents/Test/RW_bevel/test_logs/beveltest_bevel01_2018-03-19-17_13_06_subdata.log'\n",
    "    main_dict={}\n",
    "    img_df = get_data(file)\n",
    "    parse_row(img_df)\n",
    "    get_stim()\n",
    "    #print(main_dict)\n",
    "    create_output()\n",
    "main()"
   ]
  }
 ],
 "metadata": {
  "kernelspec": {
   "display_name": "Python 3",
   "language": "python",
   "name": "python3"
  },
  "language_info": {
   "codemirror_mode": {
    "name": "ipython",
    "version": 3
   },
   "file_extension": ".py",
   "mimetype": "text/x-python",
   "name": "python",
   "nbconvert_exporter": "python",
   "pygments_lexer": "ipython3",
   "version": "3.6.5"
  }
 },
 "nbformat": 4,
 "nbformat_minor": 2
}
