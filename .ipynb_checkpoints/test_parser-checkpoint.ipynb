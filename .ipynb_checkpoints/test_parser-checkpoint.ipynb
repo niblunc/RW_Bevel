{
 "cells": [
  {
   "cell_type": "code",
   "execution_count": 2,
   "metadata": {},
   "outputs": [],
   "source": [
    "import pandas as pd"
   ]
  },
  {
   "cell_type": "code",
   "execution_count": 107,
   "metadata": {},
   "outputs": [],
   "source": [
    "# Here we are initializing the dictionary\n",
    "# When this method is called a \"count\" variable is passed\n",
    "# This becomes the key to the trials, and an empty dictionary\n",
    "# is filled in for the corresponding value\n",
    "def make_dict(count):\n",
    "    \n",
    "   # print(\"MAKING DICT\")\n",
    "    main_dict[count] = {\n",
    "        'RESPONSE1' : None,\n",
    "        'RESPONSE2' : None,\n",
    "        'POSITION1' : None,\n",
    "        'POSITION2' : None,\n",
    "        'KEYPRESS'  : None,\n",
    "        'TIME'      : None,\n",
    "        'STIM'      : None\n",
    "    }\n",
    "\n",
    "            "
   ]
  },
  {
   "cell_type": "code",
   "execution_count": 111,
   "metadata": {
    "scrolled": false
   },
   "outputs": [],
   "source": [
    "\n",
    "\n",
    "\n",
    "def parse_row(img):\n",
    "\n",
    "\n",
    "\n",
    "# this counter is used to count the number of trials we have\n",
    "# and it is used for our dictionary key\n",
    "    count=0\n",
    "\n",
    "# we start a loop iterating through the rows\n",
    "# and parse out our relevant info \n",
    "    for row in img['img']:\n",
    "\n",
    "#____________________________________________________________________________________ #   \n",
    "\n",
    "    #check for the row w/ image (letters), and position\n",
    "    # this conditional statement also iterates our \"count\" variable\n",
    "    # and initializes a new dictionary key \n",
    "        if 'jpg' in row:\n",
    "            #print(row)\n",
    "            count=count+1\n",
    "            ct = str(count)\n",
    "            make_dict(ct)\n",
    "        \n",
    "        \n",
    "            response1 = row.split(\" \")[1].split(\".\")[0]\n",
    "            position1 = row.split(\" \")[3].split(\"=\")[1]\n",
    "    #    print(\"Response1: \", response1)\n",
    "     #   print(\"Position1: \", position1)\n",
    "            response2 = row.split(\" \")[5].split(\".\")[0]\n",
    "            position2 = row.split(\" \")[7].split(\"=\")[1]\n",
    "         #   print(\"Response2: \", response2)\n",
    "          #  print(\"Position2: \", position2)\n",
    "            #print(count)\n",
    "        \n",
    "    # here we add our dictionary values \n",
    "            main_dict[ct][\"RESPONSE1\"] = response1\n",
    "            main_dict[ct][\"RESPONSE2\"] = response2\n",
    "            main_dict[ct][\"POSITION1\"] = position1\n",
    "            main_dict[ct][\"POSITION2\"] = position2        \n",
    "\n",
    "#____________________________________________________________________________________ #   \n",
    "    # check for row with keypress and the time     \n",
    "        if \"time\" in row:\n",
    "            #print(row)\n",
    "            keypress=row.split(\" \")[1].split(\"=\")[1]\n",
    "    #    print(keypress)\n",
    "            time=row.split(\" \")[4]\n",
    "        \n",
    "            # here we add our dictionary values \n",
    "            main_dict[ct][\"KEYPRESS\"] = keypress\n",
    "            main_dict[ct][\"TIME\"] = time \n",
    "\n",
    "            \n",
    "#____________________________________________________________________________________ #   \n",
    "\n",
    "     # check for row with a MISSED signal    \n",
    "        if \"Missed\" in row: \n",
    "            keypress=\"Missed\"\n",
    "    # here we add our dictionary values \n",
    "            main_dict[ct][\"KEYPRESS\"] = keypress\n",
    "            main_dict[ct][\"TIME\"] = \"N/A\"\n",
    "    #print(main_dict)\n"
   ]
  },
  {
   "cell_type": "code",
   "execution_count": 112,
   "metadata": {},
   "outputs": [],
   "source": [
    "def get_data(file):\n",
    "    df = pd.read_csv(file, engine='python', sep='\\\\t')\n",
    "    df.columns=['onset', 'img', 'keypress']\n",
    "    df=df.drop( columns=['keypress', 'onset'])\n",
    "    # Here we grab a dataframe we call 'img', this contains the \n",
    "    # relavant column of our data we grabbed from the original df\n",
    "    img = df[df['img'].str.contains(\"=|Missed\")]\n",
    "    return img "
   ]
  },
  {
   "cell_type": "code",
   "execution_count": 134,
   "metadata": {},
   "outputs": [],
   "source": [
    "def get_stim():\n",
    "    for key in main_dict:\n",
    "        keypress = main_dict[key]['KEYPRESS']\n",
    "        pos1 = main_dict[key]['POSITION1']\n",
    "        pos2 = main_dict[key]['POSITION2']\n",
    "        resp1 = main_dict[key]['RESPONSE1']\n",
    "        resp2 = main_dict[key]['RESPONSE2']\n",
    "        if keypress != \"Missed\":\n",
    "           # print(\"KEYPRESS: \", keypress)\n",
    "            if pos1 == keypress:\n",
    "                stim = resp1\n",
    "                #print(\"POS1: \", pos1)\n",
    "                #print(\"RESP1: \", resp1)\n",
    "                #print(\"STIM: \", stim)\n",
    "                main_dict[key]['STIM'] = stim \n",
    "            if pos2 == keypress:\n",
    "                stim = resp2\n",
    "                #print(\"POS2: \", pos2)\n",
    "                #print(\"RESP2: \", resp2)\n",
    "                #print(\"STIM: \", stim)\n",
    "                main_dict[key]['STIM'] = stim \n",
    "            \n",
    "        \n",
    "        "
   ]
  },
  {
   "cell_type": "code",
   "execution_count": 135,
   "metadata": {},
   "outputs": [
    {
     "name": "stdout",
     "output_type": "stream",
     "text": [
      "{'1': {'RESPONSE1': 'b', 'RESPONSE2': 'e', 'POSITION1': 'left', 'POSITION2': 'right', 'KEYPRESS': 'Missed', 'TIME': 'N/A', 'STIM': None}, '2': {'RESPONSE1': 'f', 'RESPONSE2': 'a', 'POSITION1': 'left', 'POSITION2': 'right', 'KEYPRESS': 'left', 'TIME': '1.988080', 'STIM': 'f'}, '3': {'RESPONSE1': 'e', 'RESPONSE2': 'a', 'POSITION1': 'left', 'POSITION2': 'right', 'KEYPRESS': 'right', 'TIME': '1.987296', 'STIM': 'a'}, '4': {'RESPONSE1': 'b', 'RESPONSE2': 'e', 'POSITION1': 'right', 'POSITION2': 'left', 'KEYPRESS': 'left', 'TIME': '1.987544', 'STIM': 'e'}, '5': {'RESPONSE1': 'a', 'RESPONSE2': 'd', 'POSITION1': 'left', 'POSITION2': 'right', 'KEYPRESS': 'right', 'TIME': '1.986512', 'STIM': 'd'}, '6': {'RESPONSE1': 'a', 'RESPONSE2': 'd', 'POSITION1': 'left', 'POSITION2': 'right', 'KEYPRESS': 'left', 'TIME': '1.986747', 'STIM': 'a'}, '7': {'RESPONSE1': 'f', 'RESPONSE2': 'b', 'POSITION1': 'left', 'POSITION2': 'right', 'KEYPRESS': 'left', 'TIME': '1.985803', 'STIM': 'f'}, '8': {'RESPONSE1': 'e', 'RESPONSE2': 'a', 'POSITION1': 'right', 'POSITION2': 'left', 'KEYPRESS': 'right', 'TIME': '1.985855', 'STIM': 'e'}, '9': {'RESPONSE1': 'b', 'RESPONSE2': 'f', 'POSITION1': 'right', 'POSITION2': 'left', 'KEYPRESS': 'left', 'TIME': '1.985057', 'STIM': 'f'}, '10': {'RESPONSE1': 'f', 'RESPONSE2': 'a', 'POSITION1': 'right', 'POSITION2': 'left', 'KEYPRESS': 'right', 'TIME': '1.985174', 'STIM': 'f'}, '11': {'RESPONSE1': 'f', 'RESPONSE2': 'a', 'POSITION1': 'right', 'POSITION2': 'left', 'KEYPRESS': 'left', 'TIME': '1.984707', 'STIM': 'a'}, '12': {'RESPONSE1': 'b', 'RESPONSE2': 'e', 'POSITION1': 'left', 'POSITION2': 'right', 'KEYPRESS': 'right', 'TIME': '1.984557', 'STIM': 'e'}, '13': {'RESPONSE1': 'f', 'RESPONSE2': 'a', 'POSITION1': 'right', 'POSITION2': 'left', 'KEYPRESS': 'right', 'TIME': '1.984201', 'STIM': 'f'}, '14': {'RESPONSE1': 'f', 'RESPONSE2': 'b', 'POSITION1': 'left', 'POSITION2': 'right', 'KEYPRESS': 'right', 'TIME': '1.984174', 'STIM': 'b'}, '15': {'RESPONSE1': 'a', 'RESPONSE2': 'd', 'POSITION1': 'right', 'POSITION2': 'left', 'KEYPRESS': 'right', 'TIME': '1.983445', 'STIM': 'a'}, '16': {'RESPONSE1': 'e', 'RESPONSE2': 'a', 'POSITION1': 'right', 'POSITION2': 'left', 'KEYPRESS': 'right', 'TIME': '1.983357', 'STIM': 'e'}, '17': {'RESPONSE1': 'b', 'RESPONSE2': 'e', 'POSITION1': 'right', 'POSITION2': 'left', 'KEYPRESS': 'left', 'TIME': '1.982179', 'STIM': 'e'}, '18': {'RESPONSE1': 'd', 'RESPONSE2': 'a', 'POSITION1': 'right', 'POSITION2': 'left', 'KEYPRESS': 'left', 'TIME': '1.982443', 'STIM': 'a'}, '19': {'RESPONSE1': 'd', 'RESPONSE2': 'b', 'POSITION1': 'left', 'POSITION2': 'right', 'KEYPRESS': 'right', 'TIME': '1.981609', 'STIM': 'b'}, '20': {'RESPONSE1': 'a', 'RESPONSE2': 'e', 'POSITION1': 'left', 'POSITION2': 'right', 'KEYPRESS': 'left', 'TIME': '1.131632', 'STIM': 'a'}, '21': {'RESPONSE1': 'a', 'RESPONSE2': 'c', 'POSITION1': 'right', 'POSITION2': 'left', 'KEYPRESS': 'right', 'TIME': '1.981699', 'STIM': 'a'}, '22': {'RESPONSE1': 'c', 'RESPONSE2': 'b', 'POSITION1': 'right', 'POSITION2': 'left', 'KEYPRESS': 'left', 'TIME': '1.981167', 'STIM': 'b'}, '23': {'RESPONSE1': 'a', 'RESPONSE2': 'c', 'POSITION1': 'left', 'POSITION2': 'right', 'KEYPRESS': 'left', 'TIME': '1.980757', 'STIM': 'a'}, '24': {'RESPONSE1': 'a', 'RESPONSE2': 'e', 'POSITION1': 'right', 'POSITION2': 'left', 'KEYPRESS': 'right', 'TIME': '1.980754', 'STIM': 'a'}, '25': {'RESPONSE1': 'a', 'RESPONSE2': 'd', 'POSITION1': 'left', 'POSITION2': 'right', 'KEYPRESS': 'right', 'TIME': '1.980135', 'STIM': 'd'}, '26': {'RESPONSE1': 'a', 'RESPONSE2': 'd', 'POSITION1': 'right', 'POSITION2': 'left', 'KEYPRESS': 'right', 'TIME': '1.979477', 'STIM': 'a'}, '27': {'RESPONSE1': 'b', 'RESPONSE2': 'd', 'POSITION1': 'left', 'POSITION2': 'right', 'KEYPRESS': 'left', 'TIME': '1.979979', 'STIM': 'b'}, '28': {'RESPONSE1': 'e', 'RESPONSE2': 'a', 'POSITION1': 'right', 'POSITION2': 'left', 'KEYPRESS': 'right', 'TIME': '1.978858', 'STIM': 'e'}, '29': {'RESPONSE1': 'b', 'RESPONSE2': 'd', 'POSITION1': 'left', 'POSITION2': 'right', 'KEYPRESS': 'right', 'TIME': '1.978965', 'STIM': 'd'}, '30': {'RESPONSE1': 'a', 'RESPONSE2': 'e', 'POSITION1': 'left', 'POSITION2': 'right', 'KEYPRESS': 'left', 'TIME': '1.978887', 'STIM': 'a'}, '31': {'RESPONSE1': 'd', 'RESPONSE2': 'a', 'POSITION1': 'left', 'POSITION2': 'right', 'KEYPRESS': 'right', 'TIME': '1.978275', 'STIM': 'a'}, '32': {'RESPONSE1': 'd', 'RESPONSE2': 'b', 'POSITION1': 'left', 'POSITION2': 'right', 'KEYPRESS': 'right', 'TIME': '1.977991', 'STIM': 'b'}, '33': {'RESPONSE1': 'b', 'RESPONSE2': 'e', 'POSITION1': 'left', 'POSITION2': 'right', 'KEYPRESS': 'right', 'TIME': '1.977432', 'STIM': 'e'}, '34': {'RESPONSE1': 'e', 'RESPONSE2': 'a', 'POSITION1': 'left', 'POSITION2': 'right', 'KEYPRESS': 'left', 'TIME': '1.977164', 'STIM': 'e'}, '35': {'RESPONSE1': 'e', 'RESPONSE2': 'a', 'POSITION1': 'left', 'POSITION2': 'right', 'KEYPRESS': 'right', 'TIME': '1.977079', 'STIM': 'a'}, '36': {'RESPONSE1': 'f', 'RESPONSE2': 'b', 'POSITION1': 'right', 'POSITION2': 'left', 'KEYPRESS': 'left', 'TIME': '1.976497', 'STIM': 'b'}, '37': {'RESPONSE1': 'e', 'RESPONSE2': 'b', 'POSITION1': 'left', 'POSITION2': 'right', 'KEYPRESS': 'right', 'TIME': '1.976205', 'STIM': 'b'}, '38': {'RESPONSE1': 'b', 'RESPONSE2': 'c', 'POSITION1': 'left', 'POSITION2': 'right', 'KEYPRESS': 'right', 'TIME': '1.976140', 'STIM': 'c'}, '39': {'RESPONSE1': 'a', 'RESPONSE2': 'c', 'POSITION1': 'right', 'POSITION2': 'left', 'KEYPRESS': 'left', 'TIME': '1.992166', 'STIM': 'c'}, '40': {'RESPONSE1': 'b', 'RESPONSE2': 'f', 'POSITION1': 'right', 'POSITION2': 'left', 'KEYPRESS': 'right', 'TIME': '1.991898', 'STIM': 'b'}, '41': {'RESPONSE1': 'f', 'RESPONSE2': 'a', 'POSITION1': 'left', 'POSITION2': 'right', 'KEYPRESS': 'left', 'TIME': '1.991276', 'STIM': 'f'}, '42': {'RESPONSE1': 'f', 'RESPONSE2': 'b', 'POSITION1': 'right', 'POSITION2': 'left', 'KEYPRESS': 'left', 'TIME': '1.990583', 'STIM': 'b'}, '43': {'RESPONSE1': 'a', 'RESPONSE2': 'c', 'POSITION1': 'left', 'POSITION2': 'right', 'KEYPRESS': 'right', 'TIME': '1.990450', 'STIM': 'c'}, '44': {'RESPONSE1': 'd', 'RESPONSE2': 'a', 'POSITION1': 'right', 'POSITION2': 'left', 'KEYPRESS': 'left', 'TIME': '1.989813', 'STIM': 'a'}, '45': {'RESPONSE1': 'b', 'RESPONSE2': 'c', 'POSITION1': 'right', 'POSITION2': 'left', 'KEYPRESS': 'right', 'TIME': '1.989604', 'STIM': 'b'}, '46': {'RESPONSE1': 'b', 'RESPONSE2': 'f', 'POSITION1': 'right', 'POSITION2': 'left', 'KEYPRESS': 'Missed', 'TIME': 'N/A', 'STIM': None}, '47': {'RESPONSE1': 'f', 'RESPONSE2': 'a', 'POSITION1': 'left', 'POSITION2': 'right', 'KEYPRESS': 'Missed', 'TIME': 'N/A', 'STIM': None}, '48': {'RESPONSE1': 'f', 'RESPONSE2': 'b', 'POSITION1': 'left', 'POSITION2': 'right', 'KEYPRESS': 'right', 'TIME': '1.989329', 'STIM': 'b'}}\n"
     ]
    }
   ],
   "source": [
    "def main():\n",
    "    global main_dict\n",
    "    file = '/Users/nikkibytes/Documents/RW_bevel/test_logs/beveltest_bevel01_2018-03-19-17_13_06_subdata.log'\n",
    "    main_dict={}\n",
    "    img_df = get_data(file)\n",
    "    parse_row(img_df)\n",
    "    get_stim()\n",
    "    print(main_dict)\n",
    "main()"
   ]
  },
  {
   "cell_type": "code",
   "execution_count": null,
   "metadata": {},
   "outputs": [],
   "source": []
  }
 ],
 "metadata": {
  "kernelspec": {
   "display_name": "Python 3",
   "language": "python",
   "name": "python3"
  },
  "language_info": {
   "codemirror_mode": {
    "name": "ipython",
    "version": 3
   },
   "file_extension": ".py",
   "mimetype": "text/x-python",
   "name": "python",
   "nbconvert_exporter": "python",
   "pygments_lexer": "ipython3",
   "version": "3.6.5"
  }
 },
 "nbformat": 4,
 "nbformat_minor": 2
}
